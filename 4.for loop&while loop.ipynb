{
 "cells": [
  {
   "cell_type": "code",
   "execution_count": 1,
   "metadata": {},
   "outputs": [],
   "source": [
    "#for loop"
   ]
  },
  {
   "cell_type": "code",
   "execution_count": 2,
   "metadata": {},
   "outputs": [],
   "source": [
    "lists=[23,45,67,34,89]"
   ]
  },
  {
   "cell_type": "code",
   "execution_count": 3,
   "metadata": {},
   "outputs": [
    {
     "name": "stdout",
     "output_type": "stream",
     "text": [
      "23\n",
      "45\n",
      "67\n",
      "34\n",
      "89\n"
     ]
    }
   ],
   "source": [
    "for temp in lists:\n",
    "    print(temp)"
   ]
  },
  {
   "cell_type": "code",
   "execution_count": 4,
   "metadata": {},
   "outputs": [
    {
     "name": "stdout",
     "output_type": "stream",
     "text": [
      "adult\n",
      "citizen\n",
      "senior citizen\n",
      "adult\n",
      "senior citizen\n"
     ]
    }
   ],
   "source": [
    "for age in lists:\n",
    "    if(age<18):\n",
    "        print(\"children\")\n",
    "    elif(age<35):\n",
    "        print(\"adult\")\n",
    "    elif(age<59):\n",
    "        print(\"citizen\")\n",
    "    else:\n",
    "        print(\"senior citizen\")\n",
    "        \n",
    "                        "
   ]
  },
  {
   "cell_type": "code",
   "execution_count": 5,
   "metadata": {},
   "outputs": [
    {
     "name": "stdout",
     "output_type": "stream",
     "text": [
      "Enter the number:3\n",
      "odd number\n"
     ]
    }
   ],
   "source": [
    "num=int(input(\"Enter the number:\"))\n",
    "if((num%2)==0):\n",
    "    print(\"even number\")\n",
    "else:\n",
    "    print(\"odd number\")\n",
    "      \n"
   ]
  },
  {
   "cell_type": "code",
   "execution_count": 7,
   "metadata": {},
   "outputs": [
    {
     "name": "stdout",
     "output_type": "stream",
     "text": [
      "Enter the number:3\n",
      "even number\n"
     ]
    }
   ],
   "source": [
    "num=int(input(\"Enter the number:\"))\n",
    "if((num%2)==1):\n",
    "    print(\"even number\")\n",
    "else:\n",
    "    print(\"odd number\")"
   ]
  },
  {
   "cell_type": "code",
   "execution_count": null,
   "metadata": {},
   "outputs": [],
   "source": [
    "range(0,10)"
   ]
  },
  {
   "cell_type": "code",
   "execution_count": 11,
   "metadata": {},
   "outputs": [
    {
     "name": "stdout",
     "output_type": "stream",
     "text": [
      "0\n",
      "2\n",
      "4\n",
      "6\n",
      "8\n"
     ]
    }
   ],
   "source": [
    "range(0,10)\n",
    "for num in range(0,10,2):\n",
    "    print(num)"
   ]
  },
  {
   "cell_type": "code",
   "execution_count": null,
   "metadata": {},
   "outputs": [],
   "source": []
  }
 ],
 "metadata": {
  "kernelspec": {
   "display_name": "Python 3",
   "language": "python",
   "name": "python3"
  },
  "language_info": {
   "codemirror_mode": {
    "name": "ipython",
    "version": 3
   },
   "file_extension": ".py",
   "mimetype": "text/x-python",
   "name": "python",
   "nbconvert_exporter": "python",
   "pygments_lexer": "ipython3",
   "version": "3.7.4"
  }
 },
 "nbformat": 4,
 "nbformat_minor": 2
}
